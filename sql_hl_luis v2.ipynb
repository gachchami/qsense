{
 "cells": [
  {
   "cell_type": "code",
   "execution_count": 1,
   "metadata": {
    "tags": []
   },
   "outputs": [],
   "source": [
    "import numpy as np\n",
    "import matplotlib.pyplot as plt\n",
    "from matplotlib import cm\n",
    "import qutip as qt\n",
    "import qutip\n",
    "\n",
    "# -- References to Relevant Papers --\n",
    "# \"Entanglement-enhanced quantum metrology: From standard quantum limit to Heisenberg limit\" (Huang et al.)\n",
    "#\n",
    "\n",
    "##I worked with this: Phase stimation by interferometry as of figure 2b (page 4) implemented with One axis Twisting (OAT), page 10-12.\n"
   ]
  },
  {
   "cell_type": "code",
   "execution_count": 2,
   "metadata": {
    "tags": []
   },
   "outputs": [],
   "source": [
    "# Parameters for preparation, sensing, and measurement times\n",
    "T_total = 1.0  # Total fixed time for the experiment\n",
    "\n",
    "# Fraction of time allocated for preparation and measurement\n",
    "tau_prep_fraction = 0.1  # Fraction of time spent on preparation\n",
    "tau_meas_fraction = 0.05  # Fraction of time spent on measurement\n",
    "tau_sense_fraction = 1 - tau_prep_fraction - tau_meas_fraction  # Remaining time for sensing\n",
    "\n",
    "def generate_coherent_state(j):\n",
    "    \"\"\"\n",
    "    Generate a coherent spin state aligned along the x-axis.\n",
    "\n",
    "    Based on the description of coherent states for metrology in Pezzé & Smerzi, Section III. [41†source].\n",
    "    \n",
    "    Parameters:\n",
    "        j (float): Total spin quantum number (N/2).\n",
    "    \n",
    "    Returns:\n",
    "        Qobj: Coherent spin state.\n",
    "    \"\"\"\n",
    "    theta = np.pi / 2  # Aligned along the x-axis\n",
    "    phi = 0  # No rotation around the z-axis\n",
    "    return qt.spin_coherent(j, theta, phi)\n",
    "\n",
    "def gen_css(j,theta,phi):\n",
    "    return qt.spin_coherent(j, theta, phi)\n",
    "\n",
    "def apply_squeezing_operator(squeezing_strength, J):\n",
    "    \"\"\"\n",
    "    Apply a squeezing operator to the coherent state.\n",
    "\n",
    "    The use of squeezing to improve phase sensitivity is discussed in Hayes et al., Section 2.2. [42†source].\n",
    "    \n",
    "    Parameters:\n",
    "        j (float): Total spin quantum number.\n",
    "        squeezing_strength (float): The strength of squeezing.\n",
    "        Jy (Qobj): Spin operator along the z?-axis.\n",
    "    \n",
    "    Returns:\n",
    "        Qobj: Squeezing operator.\n",
    "    \"\"\"\n",
    "    squeezing_operator = (-1j * squeezing_strength * J**2).expm()\n",
    "    return squeezing_operator\n",
    "\n",
    "def time_evolve_state(H, state, t):\n",
    "    \"\"\"\n",
    "    Perform time evolution of a quantum state under a Hamiltonian H for time t.\n",
    "\n",
    "    Time evolution based on the Hamiltonian dynamics as outlined in Pezzé et al., Phys. Rev. A, 2020. Section II [41†source].\n",
    "    \n",
    "    Parameters:\n",
    "        H (Qobj): Hamiltonian of the system.\n",
    "        state (Qobj): Initial quantum state.\n",
    "        t (float): Time of evolution.\n",
    "    \n",
    "    Returns:\n",
    "        Qobj: Evolved quantum state after time t.\n",
    "    \"\"\"\n",
    "    U = (-1j * H * t).expm()  # Time evolution operator U = exp(-i H t)\n",
    "    return U * state\n",
    "\n",
    "def measure_phase_variance(operator, state):\n",
    "    \"\"\"\n",
    "    Measure the phase variance of the given state.\n",
    "\n",
    "    Fisher Information and phase variance calculations are fundamental to quantum metrology, as discussed in Pezzé et al., Section III. [42†source].\n",
    "    \n",
    "    Parameters:\n",
    "        operator (Qobj): Spin operator (typically Jz).\n",
    "        state (Qobj): Quantum state (coherent or squeezed).\n",
    "    \n",
    "    Returns:\n",
    "        float: Phase variance of the state.\n",
    "    \"\"\"\n",
    "    return qt.variance(operator, state)\n",
    "\n",
    "def calculate_fisher_information(N, sensing_time, is_entangled):\n",
    "    \"\"\"\n",
    "    Calculate Fisher Information for both separable (SQL) and entangled (HL) states.\n",
    "\n",
    "    This formula for Fisher Information scaling is adapted from Pezzé et al., Rev. Mod. Phys., 2018, page 6 [42†source].\n",
    "    \n",
    "    Parameters:\n",
    "        N (int): Number of particles.\n",
    "        sensing_time (float): The time spent in sensing.\n",
    "        is_entangled (bool): If True, apply Heisenberg scaling for entangled states.\n",
    "    \n",
    "    Returns:\n",
    "        float: Fisher Information.\n",
    "    \"\"\"\n",
    "    if is_entangled:\n",
    "        return N**2 * sensing_time**2  # Heisenberg scaling\n",
    "    else:\n",
    "        return N * sensing_time**2  # Standard Quantum Limit scaling\n",
    "\n",
    "def calculate_r_value(F_sep, F_ent, total_time_sep, total_time_ent):\n",
    "    \"\"\"\n",
    "    Calculate the metrological gain r, comparing separable and entangled strategies.\n",
    "\n",
    "    This calculation is adapted from \"Entanglement-enhanced quantum metrology\", Section II. [42†source].\n",
    "    \n",
    "    Parameters:\n",
    "        F_sep (float): Fisher Information for separable states.\n",
    "        F_ent (float): Fisher Information for entangled states.\n",
    "        total_time_sep (float): Total time for separable strategy.\n",
    "        total_time_ent (float): Total time for entangled strategy.\n",
    "    \n",
    "    Returns:\n",
    "        float: Metrological gain r.\n",
    "    \"\"\"\n",
    "    return (F_ent / total_time_ent) / (F_sep / total_time_sep)\n",
    "\n"
   ]
  },
  {
   "cell_type": "code",
   "execution_count": 28,
   "metadata": {
    "tags": []
   },
   "outputs": [
    {
     "name": "stdout",
     "output_type": "stream",
     "text": [
      "0.0 25.08280187535013 204.34473931154795\n",
      "9.999999999999995 9.999999999999993 9.999999999999995\n"
     ]
    }
   ],
   "source": [
    "css6 = generate_coherent_state(20)\n",
    "\n",
    "squeezing_strength1 = 0.1\n",
    "Sz = qt.jmat(20, 'z')\n",
    "Sx = qt.jmat(20, 'x')\n",
    "squeezing_operator1 = apply_squeezing_operator(squeezing_strength1, Sz)\n",
    "sqz6 = squeezing_operator1 * css6\n",
    "\n",
    "squeezing_strength2 = 0.4 \n",
    "squeezing_operator2 = apply_squeezing_operator(squeezing_strength2, Sz)\n",
    "sqz6b = squeezing_operator2 * css6\n",
    "\n",
    "print(qt.variance(Sx,css6),qt.variance(Sx,sqz6),qt.variance(Sx,sqz6b))\n",
    "print(qt.variance(Sz,css6),qt.variance(Sz,sqz6),qt.variance(Sz,sqz6b))"
   ]
  },
  {
   "cell_type": "code",
   "execution_count": 29,
   "metadata": {
    "tags": []
   },
   "outputs": [
    {
     "data": {
      "image/png": "[encoded data removed]",
      "text/plain": [
       "<Figure size 600x400 with 3 Axes>"
      ]
     },
     "metadata": {},
     "output_type": "display_data"
    }
   ],
   "source": [
    "thetavec = np.linspace(0, np.pi, 100)\n",
    "phivec = np.linspace(-np.pi,np.pi, 100)\n",
    "fcss6,theta,phi = qt.spin_q_function(css6,thetavec,phivec)\n",
    "fsqz6,theta1,phi1 = qt.spin_q_function(sqz6,thetavec,phivec)\n",
    "fsqz6b,theta2,phi2 = qt.spin_q_function(sqz6b,thetavec,phivec)\n",
    "\n",
    "fig,axes = plt.subplots(1,3,figsize=(6,4))\n",
    "cont0 = axes[0].contourf(theta,phi,fcss6)\n",
    "lbl0 = axes[0].set_title(\"Coherent state\")\n",
    "\n",
    "cont1 = axes[1].contourf(theta1, phi1,fsqz6)\n",
    "lbl1 = axes[1].set_title(\"Squezed state 0.1\")#\n",
    "\n",
    "cont2 = axes[2].contourf(theta2, phi2,fsqz6b)\n",
    "lbl2 = axes[2].set_title(\"Squezed state 0.4\")#\n",
    "\n",
    "#In [59]: cont0 = axes[2].contourf(xvec, xvec, Q_fock, 100)\n",
    "\n",
    "#In [60]: lbl2 = axes[2].set_title(\"Fock state\")\"\"\"\n",
    "\n",
    "plt.show()"
   ]
  },
  {
   "cell_type": "code",
   "execution_count": null,
   "metadata": {},
   "outputs": [],
   "source": []
  },
  {
   "cell_type": "markdown",
   "metadata": {},
   "source": [
    "One axis twisting, aligned with the standard axes"
   ]
  },
  {
   "cell_type": "code",
   "execution_count": 69,
   "metadata": {
    "tags": []
   },
   "outputs": [
    {
     "name": "stdout",
     "output_type": "stream",
     "text": [
      "mu: 0.2305058100333494   delta_opt: 0.2548905343827575 Var min:  0.9410360288810284 0.9258195409991143\n",
      "10.000000000000016 9.999999999999995\n",
      "40 0.2548905343827575 143.65924937226455 0.925819540999102\n"
     ]
    }
   ],
   "source": [
    "\n",
    "for N in range (40,41):\n",
    "\n",
    "    Sx = qt.jmat(N/2, 'x')\n",
    "    Sy = qt.jmat(N/2, 'y')\n",
    "    Sz = qt.jmat(N/2, 'z')\n",
    "\n",
    "\n",
    "    mu = (24)**(1/6)*(N/2)**(-2/3)\n",
    "    A = 1-np.cos(mu)**(N-2)\n",
    "    B = 4*np.sin(mu/2)*np.cos(mu/2)**(N-2)\n",
    "    delta = (1/2)*np.arctan(B/A)\n",
    "    #delta2 = np.pi-(1/2)*np.arccos(-A/np.sqrt(A**2+B**2))\n",
    "    #delta3 = 1/2*np.arctan(4/N*mu)\n",
    "    squeezing_strength = mu/2\n",
    "    #delta=mu\n",
    "    \n",
    "    print(\"mu:\", mu, \"  delta_opt:\", delta, \"Var min: \",(1/2)*(N/6)**(1/3), N/4*(1+(N-1)/4*(A-(A**2+B**2)**(1/2))))\n",
    "    #print(\"mu:\",  (12)**(1/6)*(N/2)**(-2/3),\" nu_opt: \",(1/2)*np.arctan(N**(-1/3)))\n",
    "\n",
    "\n",
    "    css_x = generate_coherent_state(N/2)\n",
    "\n",
    "    print(qt.variance(Sy,css_x),qt.variance(Sz,css_x))\n",
    "\n",
    "    squeezing_strength1 = mu/2\n",
    "    rot_spin_oper = (1j * delta  *Sx).expm()*Sz* (-1j * delta  *Sx).expm()\n",
    "    squeezing_operator =apply_squeezing_operator(squeezing_strength1,rot_spin_oper)\n",
    "    sqz_rot = squeezing_operator * css_x\n",
    "    print(N,delta,qt.variance(Sy,sqz_rot),qt.variance(Sz,sqz_rot))"
   ]
  },
  {
   "cell_type": "code",
   "execution_count": 71,
   "metadata": {
    "tags": []
   },
   "outputs": [
    {
     "data": {
      "image/png": "[encoded data removed]",
      "text/plain": [
       "<Figure size 400x400 with 2 Axes>"
      ]
     },
     "metadata": {},
     "output_type": "display_data"
    }
   ],
   "source": [
    "rot_spin_oper = (1j * delta  *Sx).expm()*Sz* (-1j * delta  *Sx).expm()\n",
    "squeezing_operator =apply_squeezing_operator(squeezing_strength1,rot_spin_oper)\n",
    "sqz_rot = squeezing_operator * css_x\n",
    "\n",
    "thetavec = np.linspace(0, np.pi, 100)\n",
    "phivec = np.linspace(-np.pi,np.pi, 100)\n",
    "fcssx,theta,phi = qt.spin_q_function(css_x,thetavec,phivec)\n",
    "fsqzrot,theta1,phi1 = qt.spin_q_function(sqz_rot,thetavec,phivec)\n",
    "\n",
    "fig,axes = plt.subplots(1,2,figsize=(4,4))\n",
    "cont0 = axes[0].contourf(theta,phi,fcssx,cmap=cm.Blues)\n",
    "lbl0 = axes[0].set_title(\"Coherent state\")\n",
    "\n",
    "cont1 = axes[1].contourf(theta1, phi1,fsqzrot,cmap=cm.Blues)\n",
    "lbl1 = axes[1].set_title(\"Squeezed state 0.115\")#\n",
    "\n",
    "plt.show()"
   ]
  },
  {
   "cell_type": "code",
   "execution_count": null,
   "metadata": {
    "tags": []
   },
   "outputs": [],
   "source": [
    "N = 100\n",
    "j = N / 2  # Total spin quantum number\n",
    "        \n",
    "# Define collective spin operators\n",
    "Sx = qt.jmat(j, 'x')\n",
    "Sy = qt.jmat(j, 'y')\n",
    "Sz = qt.jmat(j, 'z')\n",
    "\n",
    "# Separable (SQL) Strategy\n",
    "css_z = gen_css(j,0,0) #initial state in north pole\n",
    "      \n",
    "H_sense = Sz  # Sensing Hamiltonian\n",
    "time=1.57 #for instance\n",
    "beam_spl_css = (1j * np.pi/2  *Sx).expm()*css_z\n",
    "evolved_css = time_evolve_state(H_sense, beam_spl_css, time)\n",
    "final_css = (1j * np.pi/2  *Sx).expm()*evolved_css\n",
    "        #Description of what is done in Fig 2b\n",
    "\n",
    "expected_value_sql = qt.expect(Sz,final_css)/N\n",
    "phase_var_sql = qt.variance(Sz, final_css)/N**2\n",
    "#phase_variance_sql.append(phase_var_sql/N**2) \n",
    "#Since we stimate N*phase, to get the variance in theta estimation we have to divide by N**2\n",
    "        \n",
    "        \n",
    "\n",
    "# Entangled (HL) Strategy. One axis twisting version. squeezing in y\n",
    "mu = (24)**(1/6)*(N/2)**(-2/3)\n",
    "A = 1-np.cos(mu)**(N-2)\n",
    "B = 4*np.sin(mu/2)*np.cos(mu/2)**(N-2)\n",
    "delta = (1/2)*np.arctan(B/A)\n",
    "  \n",
    "squeezing_strength = mu/2\n",
    "\n",
    "rot_spin_oper = (1j * delta  *Sz).expm()*Sx* (-1j * delta  *Sz).expm()\n",
    "squeezing_operator =apply_squeezing_operator(squeezing_strength,rot_spin_oper)\n",
    "sss = squeezing_operator * css_z\n",
    "beam_spl_sss = (1j * np.pi/2  *Sx).expm()*sss\n",
    "evolved_sss = time_evolve_state(H_sense, beam_spl_sss, time)\n",
    "final_sss = (1j * np.pi/2  *Sx).expm()*evolved_sss\n",
    "expected_value_hl = qt.expect(Sz,final_sss)/N\n",
    "phase_var_hl = qt.variance(Sz, final_sss)/N**2\n",
    "\n",
    "thetavec = np.linspace(0, np.pi, 100)\n",
    "phivec = np.linspace(0,2*np.pi, 100)\n",
    "initialcss,theta,phi = qt.spin_q_function(css_z,thetavec,phivec)\n",
    "beamcss,theta1,phi1 = qt.spin_q_function(beam_spl_css,thetavec,phivec)\n",
    "evolvecss,theta2,phi2 = qt.spin_q_function(evolved_css,thetavec,phivec)\n",
    "finalcss,theta3,phi3 = qt.spin_q_function(final_css,thetavec,phivec)\n",
    "\n",
    "initialsss,theta4,phi4 = qt.spin_q_function(sss,thetavec,phivec)\n",
    "beamsss,theta5,phi5 = qt.spin_q_function(beam_spl_sss,thetavec,phivec)\n",
    "evolvesss,theta6,phi6 = qt.spin_q_function(evolved_sss,thetavec,phivec)\n",
    "finalsss,theta7,phi7 = qt.spin_q_function(final_sss,thetavec,phivec)\n",
    "\n",
    "fig,axes = plt.subplots(2,4,figsize=(8,8))\n",
    "cont0 = axes[0,0].contourf(theta,phi,initialcss)\n",
    "lbl0 = axes[0,0].set_title(\"Initial Coherent state\")\n",
    "\n",
    "cont1 = axes[0,1].contourf(theta1, phi1,beamcss)\n",
    "lbl1 = axes[0,1].set_title(\"After beam splitter\")#\n",
    "\n",
    "cont2 = axes[0,2].contourf(theta2, phi2,evolvecss)\n",
    "lbl2 = axes[0,2].set_title(\"After evolution\")#\n",
    "\n",
    "cont3 = axes[0,3].contourf(theta3, phi3,finalcss)\n",
    "lbl3 = axes[0,3].set_title(\"Final state\")#\n",
    "\n",
    "cont4 = axes[1,0].contourf(theta4,phi4,initialsss)\n",
    "lbl4 = axes[1,0].set_title(\"Initial Squeezed state (y)\")\n",
    "\n",
    "cont5 = axes[1,1].contourf(theta5, phi5,beamsss)\n",
    "lbl5 = axes[1,1].set_title(\"After beam splitter\")#\n",
    "\n",
    "cont6 = axes[1,2].contourf(theta6, phi6,evolvesss)\n",
    "lbl6 = axes[1,2].set_title(\"After evolution\")#\n",
    "\n",
    "cont7 = axes[1,3].contourf(theta7, phi7,finalsss)\n",
    "lbl7 = axes[1,3].set_title(\"Final state\")#\n",
    "\n",
    "plt.show()\n",
    "\n",
    "print(\"CSS. Estimated half cos:\",expected_value_sql,\"   SQL variance:\", phase_var_sql)\n",
    "print(\"Sqz. Estimated half cos:\",expected_value_hl,\"   HL variance:\", phase_var_hl)\n"
   ]
  },
  {
   "cell_type": "code",
   "execution_count": 109,
   "metadata": {
    "tags": []
   },
   "outputs": [
    {
     "name": "stdout",
     "output_type": "stream",
     "text": [
      "1 -0.0003981633553665487 0.24999984146594234 0.24999984146594234\n",
      "2 -0.0003981633553664654 0.12499992073297116 0.2499998414659423\n",
      "3 -0.00039816335536668745 0.08333328048864747 0.2499998414659424\n",
      "4 -0.00039816335536661807 0.06249996036648566 0.24999984146594265\n",
      "5 -0.0003981633553667513 0.049999968293188486 0.24999984146594242\n",
      "6 -0.00039816335536658684 0.041666640244323754 0.2499998414659425\n",
      "7 -0.0003981633553666245 0.03571426306656321 0.24999984146594245\n",
      "8 -0.00039816335536672735 0.0312499801832428 0.2499998414659424\n",
      "9 -0.0003981633553665801 0.02777776016288251 0.24999984146594262\n",
      "10 -0.00039816335536662734 0.024999984146594215 0.24999984146594215\n",
      "11 -0.0003981633553666644 0.022727258315085683 0.2499998414659425\n",
      "12 -0.000398163355366754 0.020833320122161846 0.24999984146594215\n",
      "13 -0.0003981633553666259 0.019230757035841747 0.24999984146594273\n",
      "14 -0.00039816335536660733 0.017857131533281622 0.2499998414659427\n",
      "15 -0.0003981633553666577 0.016666656097729497 0.24999984146594245\n",
      "16 -0.0003981633553665708 0.015624990091621405 0.24999984146594248\n",
      "17 -0.00039816335536659774 0.014705873027408372 0.2499998414659423\n",
      "18 -0.00039816335536667206 0.013888880081441226 0.24999984146594206\n",
      "19 -0.0003981633553667316 0.013157886392944337 0.2499998414659424\n",
      "20 -0.0003981633553666425 0.01249999207329712 0.2499998414659424\n",
      "21 -0.00039816335536661384 0.011904754355521078 0.24999984146594265\n",
      "22 -0.0003981633553666786 0.011363629157542863 0.24999984146594298\n",
      "23 -0.0003981633553666579 0.01086955832460617 0.2499998414659419\n",
      "24 -0.00039816335536664197 0.010416660061080949 0.24999984146594278\n",
      "25 -0.00039816335536665954 0.009999993658637681 0.24999984146594204\n",
      "26 -0.0003981633553666886 0.009615378517920862 0.2499998414659424\n",
      "27 -0.00039816335536662056 0.009259253387627503 0.2499998414659426\n",
      "28 -0.0003981633553666648 0.008928565766640835 0.2499998414659434\n",
      "29 -0.00039816335536663807 0.008620684188480781 0.24999984146594265\n",
      "30 -0.0003981633553667377 0.008333328048864745 0.24999984146594234\n",
      "31 -0.0003981633553666186 0.008064511015030392 0.24999984146594215\n",
      "32 -0.0003981633553666627 0.00781249504581071 0.24999984146594273\n",
      "33 -0.00039816335536659963 0.0075757527716952345 0.24999984146594273\n",
      "34 -0.00039816335536660554 0.0073529365137041955 0.24999984146594265\n",
      "35 -0.00039816335536665623 0.0071428526133126575 0.249999841465943\n",
      "36 -0.0003981633553665396 0.006944440040720634 0.2499998414659428\n",
      "37 -0.0003981633553666534 0.006756752472052499 0.24999984146594245\n",
      "38 -0.00039816335536660565 0.006578943196472182 0.2499998414659429\n",
      "39 -0.0003981633553667095 0.0064102523452805584 0.24999984146594179\n",
      "40 -0.0003981633553667506 0.00624999603664857 0.2499998414659428\n",
      "41 -0.00039816335536667444 0.006097557108925429 0.24999984146594262\n",
      "42 -0.0003981633553666529 0.005952377177760544 0.24999984146594284\n",
      "43 -0.00039816335536665867 0.005813949801533545 0.24999984146594242\n",
      "44 -0.0003981633553665926 0.005681814578771421 0.2499998414659425\n",
      "45 -0.000398163355366629 0.00555555203257653 0.24999984146594384\n",
      "46 -0.0003981633553665391 0.005434779162303113 0.24999984146594317\n",
      "47 -0.0003981633553665899 0.005319145563105154 0.24999984146594223\n",
      "48 -0.00039816335536666463 0.005208330030540474 0.24999984146594278\n",
      "49 -0.0003981633553667323 0.005102037580937606 0.2499998414659427\n"
     ]
    }
   ],
   "source": [
    "for N in range(1,50):\n",
    "    j = N / 2  # Total spin quantum number\n",
    "        \n",
    "    # Define collective spin operators\n",
    "    Sx = qt.jmat(j, 'x')\n",
    "    Sy = qt.jmat(j, 'y')\n",
    "    Sz = qt.jmat(j, 'z')\n",
    "\n",
    "    # Separable (SQL) Strategy\n",
    "    css_z = gen_css(j,0,0) #initial state in north pole\n",
    "      \n",
    "    H_sense = Sz  # Sensing Hamiltonian\n",
    "    time=1.57 #for instance\n",
    "    beam_spl_css = (1j * np.pi/2  *Sx).expm()*css_z\n",
    "    evolved_css = time_evolve_state(H_sense, beam_spl_css, time)\n",
    "    final_css = (1j * np.pi/2  *Sx).expm()*evolved_css\n",
    "        #Description of what is done in Fig 2b\n",
    "\n",
    "    expected_value_sql = qt.expect(Sz,final_css)/N\n",
    "    phase_var_sql = qt.variance(Sz, final_css)/N**2\n",
    "    print(N, expected_value_sql, phase_var_sql, phase_var_sql*N)"
   ]
  },
  {
   "cell_type": "code",
   "execution_count": null,
   "metadata": {},
   "outputs": [],
   "source": [
    "Squeezing, scheme proposed by J. Ma et al. Physics reports 509 (2011), page 123, formula (283)"
   ]
  },
  {
   "cell_type": "code",
   "execution_count": 110,
   "metadata": {
    "tags": []
   },
   "outputs": [
    {
     "data": {
      "image/png": "[encoded data removed]",
      "text/plain": [
       "<Figure size 800x800 with 8 Axes>"
      ]
     },
     "metadata": {},
     "output_type": "display_data"
    },
    {
     "name": "stdout",
     "output_type": "stream",
     "text": [
      "CSS. Estimated half cos: -0.00039816335536662734    SQL variance: 0.024999984146594215\n",
      "Sqz. Estimated half cos: -0.000308416008880398    HL variance: 0.0050000190240869205\n"
     ]
    }
   ],
   "source": [
    "N = 10\n",
    "j = 5  # Total spin quantum number\n",
    "        \n",
    "# Define collective spin operators\n",
    "Sx = qt.jmat(j, 'x')\n",
    "Sy = qt.jmat(j, 'y')\n",
    "Sz = qt.jmat(j, 'z')\n",
    "\n",
    "# Separable (SQL) Strategy\n",
    "css_z = gen_css(j,0,0) #initial state in north pole\n",
    "      \n",
    "H_sense = Sz  # Sensing Hamiltonian\n",
    "time=1.57 #for instance\n",
    "beam_spl_css = (1j * np.pi/2  *Sx).expm()*css_z\n",
    "evolved_css = time_evolve_state(H_sense, beam_spl_css, time)\n",
    "final_css = (1j * np.pi/2  *Sx).expm()*evolved_css\n",
    "        #Description of what is done in Fig 2b\n",
    "\n",
    "expected_value_sql = qt.expect(Sz,final_css)/N\n",
    "phase_var_sql = qt.variance(Sz, final_css)/N**2\n",
    "#phase_variance_sql.append(phase_var_sql/N**2) \n",
    "#Since we stimate N*phase, to get the variance in theta estimation we have to divide by N**2\n",
    "        \n",
    "        \n",
    "\n",
    "#HL\n",
    "eigval,eigvec = Sx.eigenstates()\n",
    "jm1 = eigvec[j-1]\n",
    "j0 = eigvec[j]\n",
    "jp1 = eigvec[j+1]\n",
    "    \n",
    "sss = 1/2**(1/2)*(j0-1/2**(1/2)*(jm1+jp1)) #This is the formula (283)\n",
    "\n",
    "beam_spl_sss = (1j * np.pi/2  *Sx).expm()*sss\n",
    "evolved_sss = time_evolve_state(H_sense, beam_spl_sss, time)\n",
    "final_sss = (1j * np.pi/2  *Sx).expm()*evolved_sss\n",
    "expected_value_hl = qt.expect(Sz,final_sss)/N\n",
    "phase_var_hl = qt.variance(Sz, final_sss)/N**2\n",
    "\n",
    "thetavec = np.linspace(0, np.pi, 100)\n",
    "phivec = np.linspace(0,2*np.pi, 100)\n",
    "initialcss,theta,phi = qt.spin_q_function(css_z,thetavec,phivec)\n",
    "beamcss,theta1,phi1 = qt.spin_q_function(beam_spl_css,thetavec,phivec)\n",
    "evolvecss,theta2,phi2 = qt.spin_q_function(evolved_css,thetavec,phivec)\n",
    "finalcss,theta3,phi3 = qt.spin_q_function(final_css,thetavec,phivec)\n",
    "\n",
    "initialsss,theta4,phi4 = qt.spin_q_function(sss,thetavec,phivec)\n",
    "beamsss,theta5,phi5 = qt.spin_q_function(beam_spl_sss,thetavec,phivec)\n",
    "evolvesss,theta6,phi6 = qt.spin_q_function(evolved_sss,thetavec,phivec)\n",
    "finalsss,theta7,phi7 = qt.spin_q_function(final_sss,thetavec,phivec)\n",
    "\n",
    "fig,axes = plt.subplots(2,4,figsize=(8,8))\n",
    "cont0 = axes[0,0].contourf(theta,phi,initialcss)\n",
    "lbl0 = axes[0,0].set_title(\"Initial Coherent state\")\n",
    "\n",
    "cont1 = axes[0,1].contourf(theta1, phi1,beamcss)\n",
    "lbl1 = axes[0,1].set_title(\"After beam splitter\")#\n",
    "\n",
    "cont2 = axes[0,2].contourf(theta2, phi2,evolvecss)\n",
    "lbl2 = axes[0,2].set_title(\"After evolution\")#\n",
    "\n",
    "cont3 = axes[0,3].contourf(theta3, phi3,finalcss)\n",
    "lbl3 = axes[0,3].set_title(\"Final state\")#\n",
    "\n",
    "cont4 = axes[1,0].contourf(theta4,phi4,initialsss)\n",
    "lbl4 = axes[1,0].set_title(\"Initial Squeezed state (y)\")\n",
    "\n",
    "cont5 = axes[1,1].contourf(theta5, phi5,beamsss)\n",
    "lbl5 = axes[1,1].set_title(\"After beam splitter\")#\n",
    "\n",
    "cont6 = axes[1,2].contourf(theta6, phi6,evolvesss)\n",
    "lbl6 = axes[1,2].set_title(\"After evolution\")#\n",
    "\n",
    "cont7 = axes[1,3].contourf(theta7, phi7,finalsss)\n",
    "lbl7 = axes[1,3].set_title(\"Final state\")#\n",
    "\n",
    "plt.show()\n",
    "\n",
    "print(\"CSS. Estimated half cos:\",expected_value_sql,\"   SQL variance:\", phase_var_sql)\n",
    "print(\"Sqz. Estimated half cos:\",expected_value_hl,\"   HL variance:\", phase_var_hl)\n"
   ]
  },
  {
   "cell_type": "markdown",
   "metadata": {},
   "source": [
    "The variance is smaller!! (But the angle better is close to pi/2)"
   ]
  },
  {
   "cell_type": "code",
   "execution_count": 91,
   "metadata": {
    "tags": []
   },
   "outputs": [
    {
     "name": "stdout",
     "output_type": "stream",
     "text": [
      "[-3.00000000e+00 -2.00000000e+00 -1.00000000e+00  3.99680289e-15\n",
      "  1.00000000e+00  2.00000000e+00  3.00000000e+00]\n"
     ]
    }
   ],
   "source": [
    "Sx = qt.jmat(3,'x')\n",
    "ev = Sx.eigenstates() \n",
    "print(ev[0])"
   ]
  },
  {
   "cell_type": "code",
   "execution_count": 114,
   "metadata": {
    "tags": []
   },
   "outputs": [
    {
     "name": "stdout",
     "output_type": "stream",
     "text": [
      "2 -0.00039816335536699277 0.12499992073297088 0.4999996829318835\n",
      "4 1.0643248238425082e-16 0.03133626431808963 0.501380229089434\n",
      "6 -0.00032509901830816865 0.013888902100060357 0.5000004756021729\n",
      "8 -0.00031477577094327823 0.007812517339662576 0.5000011097384048\n",
      "10 -0.000308416008880398 0.0050000190240869205 0.500001902408692\n",
      "12 -5.521321672650263e-17 0.0034976301271962213 0.5036587383162558\n",
      "14 0.00030098320556603756 0.0025510406293440904 0.5000039633514417\n",
      "16 -2.7654530787908187e-16 0.001934526122369454 0.4952386873265802\n",
      "18 -0.0002967734429165581 0.0015432304272543602 0.5000066584304127\n",
      "20 -0.00029528584736867236 0.0012500206094274739 0.5000082437709895\n",
      "22 0.00029406312639179574 0.0010330784868711328 0.5000099876456283\n",
      "24 -0.00029304029502762174 0.0008680761980109646 0.5000118900543156\n",
      "26 0.00029217202557837296 0.0007396656079838217 0.5000139509970635\n",
      "28 1.0016072550486504e-16 0.0006274101334371156 0.4918895446146987\n",
      "30 0.0002907774017417091 0.0005555761649830374 0.5000185484847337\n",
      "32 9.984263689091442e-17 0.00047927492553915494 0.49077752375209466\n",
      "34 -0.0002897063947813476 0.00043254652258532404 0.5000237801086346\n",
      "36 8.193976112706665e-17 0.0003938998241064806 0.5104941720419989\n",
      "38 -0.00028885805798262794 0.00034628091819166314 0.5000296458687615\n",
      "40 -0.0002884967594570279 0.0003125205103436968 0.5000328165499149\n",
      "42 0.0002881694799876967 0.00028346720281469616 0.500036145765124\n",
      "44 8.342790663816935e-17 0.00026486890468250363 0.512786199465327\n",
      "46 0.0002875994112197723 0.00023631534962084772 0.5000432797977138\n",
      "48 0.0002873496505027681 0.00021703432491974593 0.5000470846150946\n",
      "50 0.00028711967875687483 0.00020002041918661408 0.5000510479665352\n"
     ]
    }
   ],
   "source": [
    "for j in range(1,26):\n",
    "    N=2*j\n",
    "    \n",
    "    Sx = qt.jmat(j, 'x')\n",
    "    Sy = qt.jmat(j, 'y')\n",
    "    Sz = qt.jmat(j, 'z')\n",
    "   \n",
    "    # Separable (SQL) Strategy\n",
    "    css_z = gen_css(j,0,0) #initial state in north pole\n",
    "      \n",
    "    H_sense = Sz  # Sensing Hamiltonian\n",
    "    time=1.57 #\n",
    "   \n",
    "    #HL\n",
    "    eigval,eigvec = Sx.eigenstates()\n",
    "    jm1 = eigvec[j-1]\n",
    "    j0 = eigvec[j]\n",
    "    jp1 = eigvec[j+1]\n",
    "    \n",
    "    sss = 1/2**(1/2)*(j0-1/2**(1/2)*(jm1+jp1))\n",
    "    beam_spl_sss = (1j * np.pi/2  *Sx).expm()*sss\n",
    "    evolved_sss = time_evolve_state(H_sense, beam_spl_sss, time)\n",
    "    final_sss = (1j * np.pi/2  *Sx).expm()*evolved_sss\n",
    "    expected_value_hl = qt.expect(Sz,final_sss)/N\n",
    "    phase_var_hl = qt.variance(Sz, final_sss)/N**2\n",
    "    print(N, expected_value_hl, phase_var_hl, phase_var_hl*N**2)"
   ]
  },
  {
   "cell_type": "markdown",
   "metadata": {},
   "source": [
    "Variance behaves as 1/N^2"
   ]
  },
  {
   "cell_type": "code",
   "execution_count": 20,
   "metadata": {
    "tags": []
   },
   "outputs": [
    {
     "data": {
      "text/plain": [
       "0.06744831905307412"
      ]
     },
     "execution_count": 20,
     "metadata": {},
     "output_type": "execute_result"
    }
   ],
   "source": [
    "1/2*np.arctan(20**(-2/3))"
   ]
  },
  {
   "cell_type": "raw",
   "metadata": {},
   "source": []
  },
  {
   "cell_type": "markdown",
   "metadata": {},
   "source": [
    "# "
   ]
  }
 ],
 "metadata": {
  "kernelspec": {
   "display_name": "Python 3 (ipykernel)",
   "language": "python",
   "name": "python3"
  },
  "language_info": {
   "codemirror_mode": {
    "name": "ipython",
    "version": 3
   },
   "file_extension": ".py",
   "mimetype": "text/x-python",
   "name": "python",
   "nbconvert_exporter": "python",
   "pygments_lexer": "ipython3",
   "version": "3.11.5"
  }
 },
 "nbformat": 4,
 "nbformat_minor": 4
}
