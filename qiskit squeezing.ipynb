{
 "cells": [
  {
   "cell_type": "markdown",
   "id": "c4c8d6ad-628b-4444-97d8-b05a25df4e0e",
   "metadata": {
    "tags": []
   },
   "source": [
    "# Phase estimation with CSS and SSS"
   ]
  },
  {
   "cell_type": "code",
   "execution_count": 3,
   "id": "e5d2135e-d424-4dde-bf85-af8853912ef7",
   "metadata": {
    "tags": []
   },
   "outputs": [],
   "source": [
    "# Importing standard Qiskit libraries\n",
    "from qiskit import *\n",
    "from qiskit.circuit.library import U1Gate, UnitaryGate, ZGate, XGate, HamiltonianGate\n",
    "from qiskit.quantum_info import Operator\n",
    "from qiskit.visualization import *\n",
    "from qiskit_aer import AerSimulator\n",
    "from qiskit.circuit.library import RealAmplitudes\n",
    "from qiskit.circuit import QuantumCircuit, QuantumRegister, ClassicalRegister\n",
    "from qiskit.transpiler.preset_passmanagers import generate_preset_pass_manager\n",
    "from qiskit_ibm_runtime import * #Session, SamplerV2 as Sampler, QiskitRuntimeService, Result\n",
    "\n",
    "\n",
    " \n",
    "#service = QiskitRuntimeService()\n",
    "\n",
    "import qiskit.quantum_info as qi\n",
    "from math import pi,log2,sqrt\n",
    "\n",
    "\n",
    "# qiskit-ibmq-provider has been deprecated.\n",
    "# Please see the Migration Guides in https://ibm.biz/provider_migration_guide for more detail.\n",
    "from qiskit_ibm_runtime import QiskitRuntimeService, Estimator, Options\n",
    "\n",
    "# Loading your IBM Quantum account(s)\n",
    "service = QiskitRuntimeService(channel=\"local\")\n",
    "#service = QiskitRuntimeService(channel=\"ibm_quantum\", token=\"7daa54d02c4d0c593133ac851113fff5fa4b901a45e6965578ce9f2a2349ceba0a55c163216402411d45caffa06ca9b1460b93e648c32eb26bc76b0580d358ef\")\n"
   ]
  },
  {
   "cell_type": "code",
   "execution_count": 4,
   "id": "8df8c1db-a899-4f1c-a840-38926e9b8f3c",
   "metadata": {
    "tags": []
   },
   "outputs": [],
   "source": [
    "import numpy as np\n",
    "from scipy.linalg import expm\n",
    "from statistics import variance\n",
    "\n",
    "import matplotlib.pyplot as plt\n",
    "from matplotlib import cm\n",
    "\n",
    "import qutip as qt"
   ]
  },
  {
   "cell_type": "code",
   "execution_count": 5,
   "id": "b213569b-893d-4b24-93b5-3a28c6ea95ef",
   "metadata": {
    "tags": []
   },
   "outputs": [],
   "source": [
    "#Pauli matrices\n",
    "sx = qt.sigmax()\n",
    "sy = qt.sigmay()\n",
    "sz = qt.sigmaz()\n",
    "id2 = qt.qeye(2)\n",
    "base = [id2,sx,sy,sz]"
   ]
  },
  {
   "cell_type": "code",
   "execution_count": 6,
   "id": "1d4746b0-ab10-488e-9ad9-a78a06306432",
   "metadata": {},
   "outputs": [],
   "source": [
    "def TotalSpin(N,direction): #direction = 1 for x, 2 for y, 3 for z\n",
    "    output =  qt.Qobj([[0 for h in range(0,2**N)] for k in range(0,2**N)], dims=[[2 for h in range(0,N)], [2 for k in range (0,N)]])\n",
    "    for i in range(0,N):\n",
    "        output = output + (1/2)*qt.tensor([base[0] for h in range (0,i)]+[base[direction]]+[base[0] for h in range(i+1,N)])\n",
    "    return(output)"
   ]
  },
  {
   "cell_type": "code",
   "execution_count": 7,
   "id": "67cfe724-13a9-4e23-b6fc-c835d5b729db",
   "metadata": {},
   "outputs": [],
   "source": [
    "def MaaStates(N,direction):\n",
    "    ev = TotalSpin(N,direction).eigenstates()\n",
    "    unitary = np.array([[ev[1][j][i][0] for i in range (0,2**N)] for j in range(0,2**N)])\n",
    "    return(UnitaryGate(unitary,label='Maa Sqz basis',check_input=False))\n",
    "\n",
    "#Not used yet"
   ]
  },
  {
   "cell_type": "code",
   "execution_count": 8,
   "id": "ad08b665-cdbc-4219-9c64-7d6c7518fc2c",
   "metadata": {},
   "outputs": [],
   "source": [
    "# Total spin operators as Qiskit operators\n",
    "def TotalSpinOp(N,direction):\n",
    "    dirs = 'IXYZ'\n",
    "    output =  qi.Operator([[0 for h in range(0,2**N)] for k in range(0,2**N)])\n",
    "    for i in range(0,N):\n",
    "        string=''.join([dirs[0] for j in range(0,i)]+[dirs[direction]]+[dirs[0] for j in range(i+1,N)])\n",
    "        output = output + (1/2)* qi.SparsePauliOp(string)\n",
    "    return(output)"
   ]
  },
  {
   "cell_type": "code",
   "execution_count": 9,
   "id": "94cf594d-8e0d-48ee-8edc-a9fd2580b785",
   "metadata": {},
   "outputs": [],
   "source": [
    "def SqueezingGate(N):\n",
    "    mu = (24)**(1/6)*(N/2)**(-2/3)\n",
    "    A = 1-np.cos(mu)**(N-2)\n",
    "    B = 4*np.sin(mu/2)*np.cos(mu/2)**(N-2)\n",
    "    if A!=0:\n",
    "        delta = (1/2)*np.arctan(B/A)\n",
    "    else:\n",
    "        delta = np.pi/4 #avoid error if A==0\n",
    "    squeezing_strength = mu/2\n",
    "    #rotate Sx by -delta before using it as operator inside the squeezing Hamiltonian\n",
    "    rot_spin_oper = (expm(1j * delta  * TotalSpinOp(N,3).to_matrix()) @ TotalSpinOp(N,1).to_matrix() @ expm(-1j * delta  * TotalSpinOp(N,3).to_matrix()))\n",
    "    # The operator introducing the squeezing when applied to a coherent state, written as a quantum gate\n",
    "    sqz_op = UnitaryGate(expm(-1j*squeezing_strength*(rot_spin_oper@rot_spin_oper)))\n",
    "    return(sqz_op)"
   ]
  },
  {
   "cell_type": "markdown",
   "id": "5c2cece9-db61-4c2f-8a21-ea54193346af",
   "metadata": {
    "tags": []
   },
   "source": [
    "# CSS"
   ]
  },
  {
   "cell_type": "code",
   "execution_count": null,
   "id": "718639ea-e3a5-4bfe-afe2-3c9129146f2e",
   "metadata": {},
   "outputs": [],
   "source": []
  },
  {
   "cell_type": "markdown",
   "id": "d42af736-04a5-4b8b-9dc9-13e83796a004",
   "metadata": {},
   "source": [
    "We start just generating a coherent state in the $z$-axis direction, $|1\\rangle ^{\\otimes N}$, and measure the total $S_x$ spin, which is equivalent to measure all the individual qubit spins in the $x$ direction and add them (we will do the sum after running the circuit).\n",
    "\n",
    "To measure the spin of individual qubits in each direction, we follow ```https://docs.quantum.ibm.com/guides/specify-observables-pauli```"
   ]
  },
  {
   "cell_type": "code",
   "execution_count": 10,
   "id": "3a26cfcc-0c9f-4d51-9006-856eac031274",
   "metadata": {},
   "outputs": [],
   "source": [
    "def PM(N,dir): #Phase Measure\n",
    "    PM = QuantumCircuit(N) \n",
    "    # since it's equivalent, we start in the state |0>^\\tensor n\n",
    "    for j in range(0,N):\n",
    "        if dir==2:\n",
    "            PM.sdg(j) #only form measuring sy\n",
    "        if dir==1 or dir==2:\n",
    "            PM.h(j) #measure sx or sy\n",
    "    PM.measure_all()\n",
    "    return(PM)"
   ]
  },
  {
   "cell_type": "code",
   "execution_count": 11,
   "id": "b5846617-bc07-41e1-8a13-1507cb27c964",
   "metadata": {
    "scrolled": true
   },
   "outputs": [
    {
     "data": {
      "text/html": [
       "<pre style=\"word-wrap: normal;white-space: pre;background: #fff0;line-height: 1.1;font-family: &quot;Courier New&quot;,Courier,monospace\">        ┌───┐ ░ ┌─┐      \n",
       "   q_0: ┤ H ├─░─┤M├──────\n",
       "        ├───┤ ░ └╥┘┌─┐   \n",
       "   q_1: ┤ H ├─░──╫─┤M├───\n",
       "        ├───┤ ░  ║ └╥┘┌─┐\n",
       "   q_2: ┤ H ├─░──╫──╫─┤M├\n",
       "        └───┘ ░  ║  ║ └╥┘\n",
       "meas: 3/═════════╩══╩══╩═\n",
       "                 0  1  2 </pre>"
      ],
      "text/plain": [
       "        ┌───┐ ░ ┌─┐      \n",
       "   q_0: ┤ H ├─░─┤M├──────\n",
       "        ├───┤ ░ └╥┘┌─┐   \n",
       "   q_1: ┤ H ├─░──╫─┤M├───\n",
       "        ├───┤ ░  ║ └╥┘┌─┐\n",
       "   q_2: ┤ H ├─░──╫──╫─┤M├\n",
       "        └───┘ ░  ║  ║ └╥┘\n",
       "meas: 3/═════════╩══╩══╩═\n",
       "                 0  1  2 "
      ]
     },
     "execution_count": 11,
     "metadata": {},
     "output_type": "execute_result"
    }
   ],
   "source": [
    "PM(3,1).draw()"
   ]
  },
  {
   "cell_type": "markdown",
   "id": "e62065fe-b452-4787-b2f4-d7b3dd29ebea",
   "metadata": {},
   "source": [
    "# SSS"
   ]
  },
  {
   "cell_type": "markdown",
   "id": "76364512-f5d2-4e51-9c71-b7e3a1159259",
   "metadata": {},
   "source": [
    "Now we generate the squeezed spin state of Kitagawa and Ueda (one-axis twisting or\n",
    "OAT).\n",
    "We do the squeezing in the $x$ direction, from the coherent state pointing along the $z$ axis.\n",
    "But, to assure that the minimal and maximal variance occur when measuring $S_x$ and $S_y$, we\n",
    "rotate the operator in the squeezing Hamiltonian by the twisting angle $-\\delta$"
   ]
  },
  {
   "cell_type": "code",
   "execution_count": 12,
   "id": "a9fa49ba-ab12-48bc-a824-0496b37f745e",
   "metadata": {},
   "outputs": [],
   "source": [
    "# Now we measure Sx, Sy or Sz (depending on dir=1,2,3) in every qubit of the squeezed spin state, obtained by\n",
    "# applying the squeezing operator to the CSS |0> ^{tensor N)\n",
    "def SPM(N,dir):\n",
    "    SPM= QuantumCircuit(N) #Squeezed Phase Measure\n",
    "    SPM.append(SqueezingGate(N),range(0,N)) #squeezing\n",
    "    for j in range(0,N):\n",
    "        if dir==2:\n",
    "            SPM.sdg(j) #only form measuring sy\n",
    "        if dir==1 or dir==2:\n",
    "            SPM.h(j) #measure sx or sy\n",
    "    SPM.measure_all()\n",
    "    return(SPM)"
   ]
  },
  {
   "cell_type": "code",
   "execution_count": 13,
   "id": "a7e29c41-6fcd-4ba6-9191-f8515bb0061f",
   "metadata": {},
   "outputs": [
    {
     "data": {
      "text/html": [
       "<pre style=\"word-wrap: normal;white-space: pre;background: #fff0;line-height: 1.1;font-family: &quot;Courier New&quot;,Courier,monospace\">        ┌──────────┐┌───┐ ░ ┌─┐      \n",
       "   q_0: ┤0         ├┤ H ├─░─┤M├──────\n",
       "        │          │├───┤ ░ └╥┘┌─┐   \n",
       "   q_1: ┤1 Unitary ├┤ H ├─░──╫─┤M├───\n",
       "        │          │├───┤ ░  ║ └╥┘┌─┐\n",
       "   q_2: ┤2         ├┤ H ├─░──╫──╫─┤M├\n",
       "        └──────────┘└───┘ ░  ║  ║ └╥┘\n",
       "meas: 3/═════════════════════╩══╩══╩═\n",
       "                             0  1  2 </pre>"
      ],
      "text/plain": [
       "        ┌──────────┐┌───┐ ░ ┌─┐      \n",
       "   q_0: ┤0         ├┤ H ├─░─┤M├──────\n",
       "        │          │├───┤ ░ └╥┘┌─┐   \n",
       "   q_1: ┤1 Unitary ├┤ H ├─░──╫─┤M├───\n",
       "        │          │├───┤ ░  ║ └╥┘┌─┐\n",
       "   q_2: ┤2         ├┤ H ├─░──╫──╫─┤M├\n",
       "        └──────────┘└───┘ ░  ║  ║ └╥┘\n",
       "meas: 3/═════════════════════╩══╩══╩═\n",
       "                             0  1  2 "
      ]
     },
     "execution_count": 13,
     "metadata": {},
     "output_type": "execute_result"
    }
   ],
   "source": [
    "SPM(3,1).draw()"
   ]
  },
  {
   "cell_type": "markdown",
   "id": "ebafe4fa-cb69-43af-a886-e9af60349926",
   "metadata": {},
   "source": [
    "## Running the circuit\n"
   ]
  },
  {
   "cell_type": "markdown",
   "id": "c7c02169-0054-482f-b25d-e449e22832ac",
   "metadata": {},
   "source": [
    "Let us get a histogram/variance of the circuits."
   ]
  },
  {
   "cell_type": "code",
   "execution_count": 14,
   "id": "2eab433c-9781-4f5c-a07b-0261c7f7a5ac",
   "metadata": {},
   "outputs": [],
   "source": [
    "# CSS\n",
    "def RunCSS(N,dir,shotnumber,output): #output is \"var\" or \"plot\"\n",
    "    aer_sim = AerSimulator()\n",
    "    transpiled = transpile(PM(N,dir), aer_sim)\n",
    "    result = aer_sim.run(transpiled, shots=shotnumber, memory=True).result()\n",
    "    data = result.get_memory()\n",
    "    output_list = []\n",
    "    for res in data:\n",
    "        output_list.append(N/2-res.count(\"0\"))\n",
    "    counts = dict()\n",
    "    for item in output_list:\n",
    "        counts[item] = counts.get(item, 0) + 1\n",
    "    if output == \"var\":\n",
    "        return(variance(output_list))\n",
    "    if output == \"plot\":\n",
    "        return(plot_histogram(counts))"
   ]
  },
  {
   "cell_type": "code",
   "execution_count": 15,
   "id": "222ed3fc-404e-4a5d-b0eb-f462bf628498",
   "metadata": {},
   "outputs": [],
   "source": [
    "#SSS OAT\n",
    "def RunSSS(N,dir,shotnumber,output): #output is \"var\" or \"plot\"\n",
    "    aer_sim = AerSimulator()\n",
    "    transpiled = transpile(SPM(N,dir), aer_sim)\n",
    "    result = aer_sim.run(transpiled, shots=shotnumber, memory=True).result()\n",
    "    data = result.get_memory()\n",
    "    output_list = []\n",
    "    for res in data:\n",
    "        output_list.append(N/2-res.count(\"0\"))\n",
    "    counts = dict()\n",
    "    for item in output_list:\n",
    "        counts[item] = counts.get(item, 0) + 1\n",
    "    if output == \"var\":\n",
    "        return(variance(output_list))\n",
    "    if output == \"plot\":\n",
    "        return(plot_histogram(counts))"
   ]
  },
  {
   "cell_type": "code",
   "execution_count": 16,
   "id": "ac439d20-bc7a-4529-a240-440cf991fc50",
   "metadata": {},
   "outputs": [
    {
     "data": {
      "image/png": "[encoded data removed]",
      "text/plain": [
       "<Figure size 640x480 with 1 Axes>"
      ]
     },
     "execution_count": 16,
     "metadata": {},
     "output_type": "execute_result"
    }
   ],
   "source": [
    "RunCSS(8,1,1024,\"plot\")"
   ]
  },
  {
   "cell_type": "code",
   "execution_count": 17,
   "id": "21fad5bd-63a8-4d4a-9b8e-6ef5cfd9df8a",
   "metadata": {},
   "outputs": [
    {
     "data": {
      "image/png": "[encoded data removed]",
      "text/plain": [
       "<Figure size 640x480 with 1 Axes>"
      ]
     },
     "execution_count": 17,
     "metadata": {},
     "output_type": "execute_result"
    }
   ],
   "source": [
    "RunSSS(8,1,1024,\"plot\")"
   ]
  },
  {
   "cell_type": "code",
   "execution_count": 18,
   "id": "c70bb97c-cc5e-418e-838e-b0a28407c8e1",
   "metadata": {},
   "outputs": [
    {
     "data": {
      "image/png": "[encoded data removed]",
      "text/plain": [
       "<Figure size 640x480 with 1 Axes>"
      ]
     },
     "execution_count": 18,
     "metadata": {},
     "output_type": "execute_result"
    }
   ],
   "source": [
    "RunSSS(8,2,1024,\"plot\")"
   ]
  },
  {
   "cell_type": "markdown",
   "id": "ab8bbee6-b48b-484e-9e0b-354b67415b6d",
   "metadata": {},
   "source": [
    "Now we obtain and graphically compare the experimental variance for CSS and SSS and compare with the theoretical values that we had"
   ]
  },
  {
   "cell_type": "code",
   "execution_count": 19,
   "id": "c98358e4-1040-4209-bdab-aad2106dfed7",
   "metadata": {},
   "outputs": [],
   "source": [
    "N=14 #for larger N, SSS takes too long\n",
    "var, varsqx = [], []\n",
    "for j in range(1,N):\n",
    "    var.append(RunCSS(j,1,1024,\"var\")/(j)**2)\n",
    "    varsqx.append(RunSSS(j,1,1024,\"var\")/(j)**2)"
   ]
  },
  {
   "cell_type": "code",
   "execution_count": null,
   "id": "ea03fe98-8383-49d4-97fe-8ca2fa80a3f0",
   "metadata": {},
   "outputs": [
    {
     "data": {
      "image/png": "[encoded data removed]",
      "text/plain": [
       "<Figure size 640x480 with 1 Axes>"
      ]
     },
     "metadata": {},
     "output_type": "display_data"
    }
   ],
   "source": [
    "x_axis=[i for i in range(1,N)]\n",
    "th_var=[1/(4*i) for i in range (1,N)]\n",
    "th_varsq=[0 for i in range (1,N)]\n",
    "for i in range(1,N):\n",
    "    mu = (24)**(1/6)*(i/2)**(-2/3)\n",
    "    A = 1-np.cos(mu)**(i-2)\n",
    "    B = 4*np.sin(mu/2)*np.cos(mu/2)**(i-2)\n",
    "    th_varsq[i-1] = i/4*(1+(i-1)/4*(A-(A**2+B**2)**(1/2)))/(i**2)\n",
    "fig, ax = plt.subplots()\n",
    "ax.plot(x_axis, var, 'x', markeredgewidth=2)\n",
    "ax.plot(x_axis, th_var, linewidth=2.0)\n",
    "ax.plot(x_axis, varsqx, 'o', markeredgewidth=2)\n",
    "ax.plot(x_axis, th_varsq, linewidth=2.0)\n",
    "\n",
    "ax.set(xlim=(0, 14), xticks=np.arange(1, 14),\n",
    "       ylim=(0, 0.3), yticks=np.arange(0, 0.5))\n",
    "plt.show()"
   ]
  },
  {
   "cell_type": "markdown",
   "id": "c0108a4c-a37a-4504-a91a-07f606b57375",
   "metadata": {},
   "source": [
    "x- axis is number of particles, y axis is variance. x for CSS, o for SSS"
   ]
  },
  {
   "cell_type": "markdown",
   "id": "7180ba3b-340b-45fe-b7ee-9f8b292b1d35",
   "metadata": {},
   "source": [
    "## Squeeze with Maa states"
   ]
  },
  {
   "cell_type": "code",
   "execution_count": 21,
   "id": "8b36c71c-b758-4a6b-ab38-1bc9bb839510",
   "metadata": {},
   "outputs": [],
   "source": [
    "# Now we measure Sx, Sy or Sz (depending on dir=1,2,3) in every qubit of the squeezed spin state, obtained by\n",
    "# applying the squeezing operator to the CSS |0> ^{tensor N)\n",
    "def SMaaPM(N,dir):\n",
    "    SPM= QuantumCircuit(N) #Squeezed Phase Measure\n",
    "    SPM.append(MaaStates(N,1),range(0,N)) #squeezing\n",
    "    for j in range(0,N):\n",
    "        if dir==2:\n",
    "            SPM.sdg(j) #only form measuring sy\n",
    "        if dir==1 or dir==2:\n",
    "            SPM.h(j) #measure sx or sy\n",
    "    SPM.measure_all()\n",
    "    return(SPM)"
   ]
  },
  {
   "cell_type": "code",
   "execution_count": 22,
   "id": "8c4c9db3-c31a-42d9-a0ea-ab2837d5f684",
   "metadata": {},
   "outputs": [
    {
     "data": {
      "text/html": [
       "<pre style=\"word-wrap: normal;white-space: pre;background: #fff0;line-height: 1.1;font-family: &quot;Courier New&quot;,Courier,monospace\">        ┌────────────────┐┌───┐ ░ ┌─┐      \n",
       "   q_0: ┤0               ├┤ H ├─░─┤M├──────\n",
       "        │                │├───┤ ░ └╥┘┌─┐   \n",
       "   q_1: ┤1 Maa Sqz basis ├┤ H ├─░──╫─┤M├───\n",
       "        │                │├───┤ ░  ║ └╥┘┌─┐\n",
       "   q_2: ┤2               ├┤ H ├─░──╫──╫─┤M├\n",
       "        └────────────────┘└───┘ ░  ║  ║ └╥┘\n",
       "meas: 3/═══════════════════════════╩══╩══╩═\n",
       "                                   0  1  2 </pre>"
      ],
      "text/plain": [
       "        ┌────────────────┐┌───┐ ░ ┌─┐      \n",
       "   q_0: ┤0               ├┤ H ├─░─┤M├──────\n",
       "        │                │├───┤ ░ └╥┘┌─┐   \n",
       "   q_1: ┤1 Maa Sqz basis ├┤ H ├─░──╫─┤M├───\n",
       "        │                │├───┤ ░  ║ └╥┘┌─┐\n",
       "   q_2: ┤2               ├┤ H ├─░──╫──╫─┤M├\n",
       "        └────────────────┘└───┘ ░  ║  ║ └╥┘\n",
       "meas: 3/═══════════════════════════╩══╩══╩═\n",
       "                                   0  1  2 "
      ]
     },
     "execution_count": 22,
     "metadata": {},
     "output_type": "execute_result"
    }
   ],
   "source": [
    "SMaaPM(3,1).draw()"
   ]
  },
  {
   "cell_type": "code",
   "execution_count": 23,
   "id": "354d6d81-f25a-4936-bd5b-2cb89639a43e",
   "metadata": {},
   "outputs": [],
   "source": [
    "#SSS Maa\n",
    "def RunSMaaSS(N,dir,shotnumber,output): #output is \"var\" or \"plot\"\n",
    "    aer_sim = AerSimulator()\n",
    "    transpiled = transpile(SMaaPM(N,dir), aer_sim)\n",
    "    result = aer_sim.run(transpiled, shots=shotnumber, memory=True).result()\n",
    "    data = result.get_memory()\n",
    "    output_list = []\n",
    "    for res in data:\n",
    "        output_list.append(N/2-res.count(\"0\"))\n",
    "    counts = dict()\n",
    "    for item in output_list:\n",
    "        counts[item] = counts.get(item, 0) + 1\n",
    "    if output == \"var\":\n",
    "        return(variance(output_list))\n",
    "    if output == \"plot\":\n",
    "        return(plot_histogram(counts))"
   ]
  },
  {
   "cell_type": "code",
   "execution_count": 24,
   "id": "b026679e-0d7a-4e83-b095-76cbea5f24c5",
   "metadata": {},
   "outputs": [
    {
     "data": {
      "image/png": "[encoded data removed]",
      "text/plain": [
       "<Figure size 640x480 with 1 Axes>"
      ]
     },
     "execution_count": 24,
     "metadata": {},
     "output_type": "execute_result"
    }
   ],
   "source": [
    "RunSMaaSS(8,1,4096,\"plot\")"
   ]
  },
  {
   "cell_type": "code",
   "execution_count": 25,
   "id": "984ff450-3c2b-44e3-9c2c-b7e273e51c75",
   "metadata": {},
   "outputs": [
    {
     "data": {
      "image/png": "[encoded data removed]",
      "text/plain": [
       "<Figure size 640x480 with 1 Axes>"
      ]
     },
     "execution_count": 25,
     "metadata": {},
     "output_type": "execute_result"
    }
   ],
   "source": [
    "RunSMaaSS(8,2,4096,\"plot\")"
   ]
  },
  {
   "cell_type": "code",
   "execution_count": 26,
   "id": "c9fbaf4d-80f9-485e-9ac7-1f877161719d",
   "metadata": {},
   "outputs": [],
   "source": [
    "N=13 #for larger N, SSS takes too long\n",
    "var=[0 for i in range(1,N)]\n",
    "varsqx=[0 for i in range(1,N)]\n",
    "varMaa=[0 for i in range(1,N)]\n",
    "for j in range(1,N):\n",
    "    var[j-1]=RunCSS(j,1,4096,\"var\")/(j)**2\n",
    "    varsqx[j-1]=RunSSS(j,1,4096,\"var\")/(j)**2\n",
    "    varMaa[j-1]=RunSMaaSS(j,1,4096,\"var\")/(j)**2"
   ]
  },
  {
   "cell_type": "code",
   "execution_count": 49,
   "id": "b3c7426c-69e1-44ec-9435-8906ad9e1a3a",
   "metadata": {},
   "outputs": [
    {
     "data": {
      "image/png": "[encoded data removed]",
      "text/plain": [
       "<Figure size 640x480 with 1 Axes>"
      ]
     },
     "metadata": {},
     "output_type": "display_data"
    }
   ],
   "source": [
    "x_axis=[i for i in range(1,N)]\n",
    "th_var=[1/(4*i) for i in range (1,N)]\n",
    "th_varsq=[0 for i in range (1,N)]\n",
    "for i in range(1,N):\n",
    "    mu = (24)**(1/6)*(i/2)**(-2/3)\n",
    "    A = 1-np.cos(mu)**(i-2)\n",
    "    B = 4*np.sin(mu/2)*np.cos(mu/2)**(i-2)\n",
    "    th_varsq[i-1] = i/4*(1+(i-1)/4*(A-(A**2+B**2)**(1/2)))/(i**2)\n",
    "fig, ax = plt.subplots()\n",
    "ax.plot(x_axis, var, 'x', markeredgewidth=2)\n",
    "ax.plot(x_axis, th_var, linewidth=2.0)\n",
    "ax.plot(x_axis, varsqx, 'o', markeredgewidth=2)\n",
    "ax.plot(x_axis, th_varsq, linewidth=2.0)\n",
    "ax.plot(x_axis, varMaa,'+',  markeredgewidth=2)\n",
    "      \n",
    "ax.set(xlim=(0, 14), xticks=np.arange(1, 14),\n",
    "       ylim=(0, 0.3), yticks=np.arange(0, 0.5))\n",
    "plt.show()\n",
    "\n"
   ]
  },
  {
   "cell_type": "code",
   "execution_count": null,
   "id": "6de85446-63fb-4685-b36a-15b4d5a46179",
   "metadata": {},
   "outputs": [],
   "source": []
  }
 ],
 "metadata": {
  "kernelspec": {
   "display_name": "Python 3 (ipykernel)",
   "language": "python",
   "name": "python3"
  },
  "language_info": {
   "codemirror_mode": {
    "name": "ipython",
    "version": 3
   },
   "file_extension": ".py",
   "mimetype": "text/x-python",
   "name": "python",
   "nbconvert_exporter": "python",
   "pygments_lexer": "ipython3",
   "version": "3.9.18"
  },
  "widgets": {
   "application/vnd.jupyter.widget-state+json": {
    "state": {
     "0ac1e2fc59f7433da5696468a28a3a17": {
      "model_module": "@jupyter-widgets/controls",
      "model_module_version": "2.0.0",
      "model_name": "HTMLStyleModel",
      "state": {
       "description_width": "",
       "font_size": null,
       "text_color": null
      }
     },
     "245f2b2e15bb498695ec2ddd67b0c479": {
      "model_module": "@jupyter-widgets/base",
      "model_module_version": "2.0.0",
      "model_name": "LayoutModel",
      "state": {
       "margin": "0px 0px 10px 0px"
      }
     },
     "2c3e2bb2309446cdade51e4e87da20f6": {
      "model_module": "@jupyter-widgets/controls",
      "model_module_version": "2.0.0",
      "model_name": "HBoxModel",
      "state": {
       "children": [
        "IPY_MODEL_d88c1c05e0124b51800856116d90dfc8",
        "IPY_MODEL_49afd3cfb542450b8ba0338d9381c830",
        "IPY_MODEL_7b277db40e2840fa96c9b18c764dd639",
        "IPY_MODEL_6a892d9841684317ad6aaa72467725d2",
        "IPY_MODEL_4cb0c35ad0974b6697bc075d3e591a56"
       ],
       "layout": "IPY_MODEL_601792cfdf5c432b8410f8933e540cfa"
      }
     },
     "49afd3cfb542450b8ba0338d9381c830": {
      "model_module": "@jupyter-widgets/controls",
      "model_module_version": "2.0.0",
      "model_name": "HTMLModel",
      "state": {
       "layout": "IPY_MODEL_91858b419bb9459da0f7ae53709519f4",
       "style": "IPY_MODEL_cff9992547804d7694a6e6d08c5c0c4f",
       "value": "<h5>Backend</h5>"
      }
     },
     "4cb0c35ad0974b6697bc075d3e591a56": {
      "model_module": "@jupyter-widgets/controls",
      "model_module_version": "2.0.0",
      "model_name": "HTMLModel",
      "state": {
       "layout": "IPY_MODEL_6ef3df6bcf744726a4d2dd7de2afbfab",
       "style": "IPY_MODEL_0ac1e2fc59f7433da5696468a28a3a17",
       "value": "<h5>Message</h5>"
      }
     },
     "587c641ca43946e18807801bad020975": {
      "model_module": "@jupyter-widgets/controls",
      "model_module_version": "2.0.0",
      "model_name": "HTMLStyleModel",
      "state": {
       "description_width": "",
       "font_size": null,
       "text_color": null
      }
     },
     "5fa34db8802241bf992e3a798ee92a02": {
      "model_module": "@jupyter-widgets/controls",
      "model_module_version": "2.0.0",
      "model_name": "ButtonModel",
      "state": {
       "button_style": "primary",
       "description": "Clear",
       "layout": "IPY_MODEL_6204f6c673b74e20bc372b89de1e2d3d",
       "style": "IPY_MODEL_e18b8824f9d447aaaa00642d9e5f204f",
       "tooltip": null
      }
     },
     "601792cfdf5c432b8410f8933e540cfa": {
      "model_module": "@jupyter-widgets/base",
      "model_module_version": "2.0.0",
      "model_name": "LayoutModel",
      "state": {
       "margin": "0px 0px 0px 37px",
       "width": "600px"
      }
     },
     "6204f6c673b74e20bc372b89de1e2d3d": {
      "model_module": "@jupyter-widgets/base",
      "model_module_version": "2.0.0",
      "model_name": "LayoutModel",
      "state": {
       "grid_area": "right",
       "padding": "0px 0px 0px 0px",
       "width": "70px"
      }
     },
     "65c43cf2f3224e7cab7a4f539fc7a7cb": {
      "model_module": "@jupyter-widgets/controls",
      "model_module_version": "2.0.0",
      "model_name": "HTMLStyleModel",
      "state": {
       "description_width": "",
       "font_size": null,
       "text_color": null
      }
     },
     "6771bbd6922140adbffd85cb28e8c712": {
      "model_module": "@jupyter-widgets/controls",
      "model_module_version": "2.0.0",
      "model_name": "HTMLStyleModel",
      "state": {
       "description_width": "",
       "font_size": null,
       "text_color": null
      }
     },
     "6a892d9841684317ad6aaa72467725d2": {
      "model_module": "@jupyter-widgets/controls",
      "model_module_version": "2.0.0",
      "model_name": "HTMLModel",
      "state": {
       "layout": "IPY_MODEL_83f1bc8c6f7a47c9ac7a831f97b2493c",
       "style": "IPY_MODEL_af9c770ccd2e406eb6027b79f86856b1",
       "value": "<h5>Queue</h5>"
      }
     },
     "6ef3df6bcf744726a4d2dd7de2afbfab": {
      "model_module": "@jupyter-widgets/base",
      "model_module_version": "2.0.0",
      "model_name": "LayoutModel",
      "state": {}
     },
     "7b277db40e2840fa96c9b18c764dd639": {
      "model_module": "@jupyter-widgets/controls",
      "model_module_version": "2.0.0",
      "model_name": "HTMLModel",
      "state": {
       "layout": "IPY_MODEL_842aae400bca4c3ea1f8eb3c1084ba1c",
       "style": "IPY_MODEL_587c641ca43946e18807801bad020975",
       "value": "<h5>Status</h5>"
      }
     },
     "7d94490ecdec4c97befb11564a941c47": {
      "model_module": "@jupyter-widgets/controls",
      "model_module_version": "2.0.0",
      "model_name": "GridBoxModel",
      "state": {
       "children": [
        "IPY_MODEL_5fa34db8802241bf992e3a798ee92a02"
       ],
       "layout": "IPY_MODEL_d608b1c4726e4db49748d59f10beb17b"
      }
     },
     "83f1bc8c6f7a47c9ac7a831f97b2493c": {
      "model_module": "@jupyter-widgets/base",
      "model_module_version": "2.0.0",
      "model_name": "LayoutModel",
      "state": {
       "width": "70px"
      }
     },
     "842aae400bca4c3ea1f8eb3c1084ba1c": {
      "model_module": "@jupyter-widgets/base",
      "model_module_version": "2.0.0",
      "model_name": "LayoutModel",
      "state": {
       "width": "95px"
      }
     },
     "91858b419bb9459da0f7ae53709519f4": {
      "model_module": "@jupyter-widgets/base",
      "model_module_version": "2.0.0",
      "model_name": "LayoutModel",
      "state": {
       "width": "145px"
      }
     },
     "a191a8b671df4046a0a8545927ca5fb8": {
      "model_module": "@jupyter-widgets/controls",
      "model_module_version": "2.0.0",
      "model_name": "HTMLModel",
      "state": {
       "layout": "IPY_MODEL_245f2b2e15bb498695ec2ddd67b0c479",
       "style": "IPY_MODEL_65c43cf2f3224e7cab7a4f539fc7a7cb",
       "value": "<p style='font-family: IBM Plex Sans, Arial, Helvetica, sans-serif; font-size: 20px; font-weight: medium;'>Circuit Properties</p>"
      }
     },
     "af9c770ccd2e406eb6027b79f86856b1": {
      "model_module": "@jupyter-widgets/controls",
      "model_module_version": "2.0.0",
      "model_name": "HTMLStyleModel",
      "state": {
       "description_width": "",
       "font_size": null,
       "text_color": null
      }
     },
     "cff9992547804d7694a6e6d08c5c0c4f": {
      "model_module": "@jupyter-widgets/controls",
      "model_module_version": "2.0.0",
      "model_name": "HTMLStyleModel",
      "state": {
       "description_width": "",
       "font_size": null,
       "text_color": null
      }
     },
     "d608b1c4726e4db49748d59f10beb17b": {
      "model_module": "@jupyter-widgets/base",
      "model_module_version": "2.0.0",
      "model_name": "LayoutModel",
      "state": {
       "grid_template_areas": "\n                                       \". . . . right \"\n                                        ",
       "grid_template_columns": "20% 20% 20% 20% 20%",
       "width": "100%"
      }
     },
     "d88c1c05e0124b51800856116d90dfc8": {
      "model_module": "@jupyter-widgets/controls",
      "model_module_version": "2.0.0",
      "model_name": "HTMLModel",
      "state": {
       "layout": "IPY_MODEL_fd6cbdd960be47aa9d233d24add7daf3",
       "style": "IPY_MODEL_6771bbd6922140adbffd85cb28e8c712",
       "value": "<h5>Job ID</h5>"
      }
     },
     "e18b8824f9d447aaaa00642d9e5f204f": {
      "model_module": "@jupyter-widgets/controls",
      "model_module_version": "2.0.0",
      "model_name": "ButtonStyleModel",
      "state": {
       "font_family": null,
       "font_size": null,
       "font_style": null,
       "font_variant": null,
       "font_weight": null,
       "text_color": null,
       "text_decoration": null
      }
     },
     "fd6cbdd960be47aa9d233d24add7daf3": {
      "model_module": "@jupyter-widgets/base",
      "model_module_version": "2.0.0",
      "model_name": "LayoutModel",
      "state": {
       "width": "190px"
      }
     }
    },
    "version_major": 2,
    "version_minor": 0
   }
  }
 },
 "nbformat": 4,
 "nbformat_minor": 5
}
